{
  "nbformat": 4,
  "nbformat_minor": 0,
  "metadata": {
    "colab": {
      "provenance": [],
      "authorship_tag": "ABX9TyNyXJm1994q4XGWeSxBjwW+",
      "include_colab_link": true
    },
    "kernelspec": {
      "name": "python3",
      "display_name": "Python 3"
    },
    "language_info": {
      "name": "python"
    }
  },
  "cells": [
    {
      "cell_type": "markdown",
      "metadata": {
        "id": "view-in-github",
        "colab_type": "text"
      },
      "source": [
        "<a href=\"https://colab.research.google.com/github/Rashmiacekiper/Python_Basics_Assignment.ipynb/blob/main/Python_Basics_Assignment.ipynb\" target=\"_parent\"><img src=\"https://colab.research.google.com/assets/colab-badge.svg\" alt=\"Open In Colab\"/></a>"
      ]
    },
    {
      "cell_type": "code",
      "execution_count": null,
      "metadata": {
        "id": "MyF8-KY-jp6M"
      },
      "outputs": [],
      "source": []
    },
    {
      "cell_type": "markdown",
      "source": [
        "## 1.Explain the key features of Python that make it a popular choice for programming.\n",
        "A -**Features of Python**\n",
        "  - Python is the simplest programming language.\n",
        "  - It has object oriented approach.It means it is procedured or functional programmimg language. Each and every task is in sequential manner.\n",
        "  - Python is utilized in web development, mathematical research, scientific research, visualization of data, analysis of data, interpretation of graphs, DV tools.\n",
        "  - Python helps in Machine learning, NLP and AI.\n",
        "  - Python works in all the different programs/any operating system platforms.\n",
        "  - Python's source code is converted to bytecode and executed line by line, which makes it easier to debug.\n",
        "  - Python runs in Interpreter. Code can be executed once it is written.\n",
        "  Python's simple syntax, keywords ans structure make it easy to understand. So, it is easy going with developers.\n",
        "  - Python offers an interactive shell or REPL (Read Evaluate Print Loop Environment), enabling developers to experiment the code snippets quickly. It enables developers to test code snippets, assess results and refine their code iteratively.\n",
        "  Therefore. the key features of Python will empower developers to create worldclass software applications efficiently.\n",
        "  "
      ],
      "metadata": {
        "id": "6GLsnJMPkmZF"
      }
    },
    {
      "cell_type": "markdown",
      "source": [
        "# 2. Describe the role of predefined keywords in Python and provide examples of how they are used in a program.\n",
        "A There are 35 keywords in Python.\n",
        "        False\tawait\telse\timport\tpass\n",
        "        None\tbreak\texcept\tin\traise\n",
        "        True\tclass\tfinally\tis\treturn\n",
        "        and\tcontinue\tfor\tlambda\ttry\n",
        "        as\tdef\tfrom\tnonlocal\twhile\n",
        "        assert\tdel\tglobal\tnot\twith\n",
        "        async\telif\tif\tor\tyield\n",
        "\n",
        "  A Keyword is a word having special meaning reserved by programming language. Keywords are words that convey a special meaning to the language. The purpose of the keyword is to define the syntax of the code.\n"
      ],
      "metadata": {
        "id": "WMs-QMIan8Oj"
      }
    },
    {
      "cell_type": "code",
      "source": [
        "# Examples\n",
        "2==2\n"
      ],
      "metadata": {
        "colab": {
          "base_uri": "https://localhost:8080/"
        },
        "id": "Cmw5PLMgpckt",
        "outputId": "15632189-fc0c-4d4e-f3af-f9a619ee0974"
      },
      "execution_count": null,
      "outputs": [
        {
          "output_type": "execute_result",
          "data": {
            "text/plain": [
              "True"
            ]
          },
          "metadata": {},
          "execution_count": 1
        }
      ]
    },
    {
      "cell_type": "code",
      "source": [
        "5>4\n"
      ],
      "metadata": {
        "colab": {
          "base_uri": "https://localhost:8080/"
        },
        "id": "3ZUgOO_kpqWf",
        "outputId": "40ad29b1-135b-4698-edd6-01d95056442a"
      },
      "execution_count": null,
      "outputs": [
        {
          "output_type": "execute_result",
          "data": {
            "text/plain": [
              "True"
            ]
          },
          "metadata": {},
          "execution_count": 2
        }
      ]
    },
    {
      "cell_type": "code",
      "source": [
        "6<4"
      ],
      "metadata": {
        "colab": {
          "base_uri": "https://localhost:8080/"
        },
        "id": "5gj5b930qH0r",
        "outputId": "36ea1c68-6493-4d8d-b485-f9971a8c3b89"
      },
      "execution_count": null,
      "outputs": [
        {
          "output_type": "execute_result",
          "data": {
            "text/plain": [
              "False"
            ]
          },
          "metadata": {},
          "execution_count": 4
        }
      ]
    },
    {
      "cell_type": "code",
      "source": [
        "a = 6\n",
        "type(a)"
      ],
      "metadata": {
        "colab": {
          "base_uri": "https://localhost:8080/"
        },
        "id": "XV1FcAjlqXa9",
        "outputId": "cbe56ccf-67ff-4063-9b05-62a2773832cc"
      },
      "execution_count": null,
      "outputs": [
        {
          "output_type": "execute_result",
          "data": {
            "text/plain": [
              "int"
            ]
          },
          "metadata": {},
          "execution_count": 8
        }
      ]
    },
    {
      "cell_type": "code",
      "source": [
        "b=2.6\n",
        "type(b)"
      ],
      "metadata": {
        "colab": {
          "base_uri": "https://localhost:8080/"
        },
        "id": "TjQdBEReqzZh",
        "outputId": "8a3b99a0-d7fb-43ea-becd-4c4511d90ae1"
      },
      "execution_count": null,
      "outputs": [
        {
          "output_type": "execute_result",
          "data": {
            "text/plain": [
              "float"
            ]
          },
          "metadata": {},
          "execution_count": 9
        }
      ]
    },
    {
      "cell_type": "markdown",
      "source": [
        "# 3. Compare and contrast mutable and immutable objects in Python with examples.\n",
        "\n",
        "A - In Python, objects can be either changeable/mutable or unchangeable/unmutable.\n",
        "  **Immutable types**\n",
        "  The Immutable types are those that can never change their value in place. The following types are immutable. (a) Integers\n",
        "                                 (b) Floating point numbers\n",
        "                                 (c) Booleans\n",
        "                                 (d) Strings\n",
        "                                 (e) Tuples\n",
        "                                 \n",
        "\n",
        " ** Mutable types**\n",
        " The Mutable types are those whose values can be changed in place. Mutable objets are : (a) List\n",
        "              (b) Disctionary\n",
        "              (c) Sets\n",
        "  To change a member of a list.We may write:\n",
        "  "
      ],
      "metadata": {
        "id": "_mmc8lyu8hBO"
      }
    },
    {
      "cell_type": "code",
      "source": [
        "chk=[2,4,6]\n",
        "chk[1]=40\n",
        "# It will make the list namely chk as [2,4,6]\n",
        "chk\n",
        "\n"
      ],
      "metadata": {
        "colab": {
          "base_uri": "https://localhost:8080/"
        },
        "id": "YvkuvRYRAG8J",
        "outputId": "205cc47e-5cdf-43a4-b997-0d77b92de7e1"
      },
      "execution_count": null,
      "outputs": [
        {
          "output_type": "execute_result",
          "data": {
            "text/plain": [
              "[2, 40, 6]"
            ]
          },
          "metadata": {},
          "execution_count": 6
        }
      ]
    },
    {
      "cell_type": "markdown",
      "source": [
        "The above was the example of Mutable type."
      ],
      "metadata": {
        "id": "xATq4T1vCmQe"
      }
    },
    {
      "cell_type": "markdown",
      "source": [
        "# 4.  Discuss the different types of operators in Python and provide examples of how they are used.\n",
        "A - Operators are special symbols or keywords that are used to carry out specific actions on numbers or variable in Python expressions. Python operators comprises of these types of operators.\n",
        "(a) Arithmatic operators - +\tAddition\tx + y\n",
        "                          -\tSubtraction\tx - y\n",
        "                          *\tMultiplication\tx * y\n",
        "                          /\tDivision\tx / y\n",
        "                          %\tModulus\tx % y\n",
        "                          **\tExponentiation\tx ** y\n",
        "                            //\tFloor division\tx // y\n",
        "\n",
        "(b) Relational Operators\n",
        "(c) Bitwise Operators\n",
        "(d) Membership operators\n",
        "(e) Logical Operators\n",
        "(f) Identify Operators\n",
        "\n"
      ],
      "metadata": {
        "id": "kMufJ9uHC7-X"
      }
    }
  ]
}